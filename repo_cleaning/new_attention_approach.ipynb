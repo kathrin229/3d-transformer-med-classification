{
 "cells": [
  {
   "cell_type": "code",
   "execution_count": 5,
   "id": "de13adcb-0c08-4a6a-a560-db74b6958735",
   "metadata": {},
   "outputs": [],
   "source": [
    "# x: patch embedded images + cls_token, shape (batch_size x num_patches + cls_token x embed_dim) (8, 2561, 768)\n",
    "# B: batch_size (8)\n",
    "# T: time_dimension (32)\n",
    "# W: num_img_patches_width (10)\n",
    "\n",
    "# def forward(self, x, B, T, W): \n",
    "#     num_spatial_tokens = (x.size(1) - 1) // T\n",
    "#     H = num_spatial_tokens // W   # (8)\n",
    "    \n",
    "#     if self.attention_type in ['space_only', 'joint_space_time']:\n",
    "#             x = x + self.drop_path(self.attn(self.norm1(x)))\n",
    "#             x = x + self.drop_path(self.mlp(self.norm2(x)))\n",
    "#             return x\n",
    "\n",
    "#     elif self.attention_type == 'divided_space_time':\n",
    "#         ## Temporal\n",
    "#         xt = x[:,1:,:]  # (8, 2560, 768) taking all patches except the one to classify\n",
    "#         xt = rearrange(xt, 'b (h w t) m -> (b h w) t m',b=B,h=H,w=W,t=T)  # (640, 32, 768) ??? NO TRANSPOSE ??? rearrange such that it is being iterated over dim T\n",
    "#         res_temporal = self.drop_path(self.temporal_attn(self.temporal_norm1(xt)))  # (640, 32, 768) calculate attention\n",
    "#         res_temporal = rearrange(res_temporal, '(b h w) t m -> b (h w t) m',b=B,h=H,w=W,t=T)  # (8, 2560, 768) rearrange to shape from before\n",
    "#         res_temporal = self.temporal_fc(res_temporal)  # (8, 2560, 768)\n",
    "#         xt = x[:,1:,:] + res_temporal   # (8, 2560, 768) add temporal attention to x\n",
    "\n",
    "#         ## Spatial\n",
    "#         init_cls_token = x[:,0,:].unsqueeze(1)  # (8, 1, 768) take out cls_token \n",
    "#         cls_token = init_cls_token.repeat(1, T, 1)  # (8, 32, 768) repeat cls_token T times\n",
    "#         cls_token = rearrange(cls_token, 'b t m -> (b t) m',b=B,t=T).unsqueeze(1)  # (256, 1, 768)\n",
    "#         xs = xt  # (8, 2560, 768)\n",
    "#         xs = rearrange(xs, 'b (h w t) m -> (b t) (h w) m',b=B,h=H,w=W,t=T)  # (256, 80, 768) rearrange such that it is being iterated over space (h x w)\n",
    "#         xs = torch.cat((cls_token, xs), 1)  # (256, 81, 768) add patch to classify to xs\n",
    "#         res_spatial = self.drop_path(self.attn(self.norm1(xs)))  # (256, 81, 768) calculate attention\n",
    "\n",
    "#         ### Taking care of CLS token\n",
    "#         cls_token = res_spatial[:,0,:]  # (256, 768) taking out patch to classify\n",
    "#         cls_token = rearrange(cls_token, '(b t) m -> b t m',b=B,t=T)  # (8, 32, 768) rearrange for temporal dimension\n",
    "#         cls_token = torch.mean(cls_token,1,True) ## averaging for every frame (8, 1, 768) averaging over time dimension\n",
    "#         res_spatial = res_spatial[:,1:,:]  # (256, 80, 768) taking all patches except the one to classify in time dimension shape\n",
    "#         res_spatial = rearrange(res_spatial, '(b t) (h w) m -> b (h w t) m',b=B,h=H,w=W,t=T)  # (8, 2560, 768) rearrange to batch size x num patches\n",
    "#         res = res_spatial  # (8, 2560, 768)\n",
    "#         x = xt  # (8, 2560, 768)\n",
    "\n",
    "#         ## Mlp\n",
    "#         x = torch.cat((init_cls_token, x), 1) + torch.cat((cls_token, res), 1) # (8, 1, 768) , (8, 2560, 768)  +  (8, 1, 768) , (8, 2560, 768)\n",
    "#         x = x + self.drop_path(self.mlp(self.norm2(x)))  # multi layer perceptron\n",
    "#         return x  # (8, 2561, 768)"
   ]
  },
  {
   "cell_type": "code",
   "execution_count": 1,
   "id": "97964ae3-f578-4821-ad3e-20084eb333a0",
   "metadata": {},
   "outputs": [],
   "source": [
    "import numpy as np"
   ]
  },
  {
   "cell_type": "code",
   "execution_count": 102,
   "id": "34a44b49-f4f0-47f6-acf1-b6b3511e1d2a",
   "metadata": {},
   "outputs": [],
   "source": [
    "orig_array = np.array([[[[1,2,3,4,5],\n",
    "                [6,7,8,9,10],\n",
    "                [11,12,13,14,15],\n",
    "                [16,17,18,19,20]],\n",
    "\n",
    "                [[100,200,300,400,500],\n",
    "                [600,700,800,900,1000],\n",
    "                [1100,1200,1300,1400,1500],\n",
    "                [1600,1700,1800,1900,2000]],\n",
    "\n",
    "                [[10000,20000,30000,40000,50000],\n",
    "                [60000,70000,80000,90000,100000],\n",
    "                [110000,120000,130000,140000,150000],\n",
    "                [160000,170000,180000,190000,200000]]],\n",
    "\n",
    "                [[[11,21,31,41,51],\n",
    "                [61,71,81,91,101],\n",
    "                [111,121,131,141,151],\n",
    "                [161,171,181,191,201]],\n",
    "\n",
    "                [[1001,2001,3001,4001,5001],\n",
    "                [6001,7001,8001,9001,10001],\n",
    "                [11001,12001,13001,14001,15001],\n",
    "                [16001,17001,18001,19001,20001]],\n",
    "\n",
    "                [[100001,200001,300001,400001,500001],\n",
    "                [600001,700001,800001,900001,1000001],\n",
    "                [1100001,1200001,1300001,1400001,1500001],\n",
    "                [1600001,1700001,1800001,1900001,2000001]]]])\n",
    "\n",
    "# Patch embedding\n",
    "array = orig_array.reshape(2, 1, 3, 4, 5) # batch channel time height width\n",
    "array = array.reshape(6,1,4,5)\n",
    "array = array.reshape(6,1,20)\n",
    "array = array.reshape(6,20,1)\n",
    "\n",
    "# Put batch size to the front\n",
    "embedded_array = array.reshape(2,60,1)\n",
    "    \n",
    "    \n",
    "# x: patch embedded images + cls_token, shape (batch_size x num_patches + cls_token x embed_dim) (2, 60, 1)\n",
    "# B: batch_size (2)\n",
    "# T: time_dimension (3)\n",
    "# W: num_img_patches_width (5)"
   ]
  },
  {
   "cell_type": "code",
   "execution_count": 3,
   "id": "119f606a-e850-4c27-8e52-8e1e8b2ee291",
   "metadata": {},
   "outputs": [],
   "source": [
    "# Rearranga array like done in divided space time attention (does not work as expected)\n",
    "array = embedded_array.reshape(40, 3, 1)\n"
   ]
  },
  {
   "cell_type": "code",
   "execution_count": 103,
   "id": "8dbe8cd3-fc69-447c-b264-7352c58b30d9",
   "metadata": {},
   "outputs": [
    {
     "data": {
      "text/plain": [
       "array([[[[      1],\n",
       "         [      2],\n",
       "         [      3],\n",
       "         [      4],\n",
       "         [      5],\n",
       "         [      6],\n",
       "         [      7],\n",
       "         [      8],\n",
       "         [      9],\n",
       "         [     10],\n",
       "         [     11],\n",
       "         [     12],\n",
       "         [     13],\n",
       "         [     14],\n",
       "         [     15],\n",
       "         [     16],\n",
       "         [     17],\n",
       "         [     18],\n",
       "         [     19],\n",
       "         [     20]],\n",
       "\n",
       "        [[    100],\n",
       "         [    200],\n",
       "         [    300],\n",
       "         [    400],\n",
       "         [    500],\n",
       "         [    600],\n",
       "         [    700],\n",
       "         [    800],\n",
       "         [    900],\n",
       "         [   1000],\n",
       "         [   1100],\n",
       "         [   1200],\n",
       "         [   1300],\n",
       "         [   1400],\n",
       "         [   1500],\n",
       "         [   1600],\n",
       "         [   1700],\n",
       "         [   1800],\n",
       "         [   1900],\n",
       "         [   2000]],\n",
       "\n",
       "        [[  10000],\n",
       "         [  20000],\n",
       "         [  30000],\n",
       "         [  40000],\n",
       "         [  50000],\n",
       "         [  60000],\n",
       "         [  70000],\n",
       "         [  80000],\n",
       "         [  90000],\n",
       "         [ 100000],\n",
       "         [ 110000],\n",
       "         [ 120000],\n",
       "         [ 130000],\n",
       "         [ 140000],\n",
       "         [ 150000],\n",
       "         [ 160000],\n",
       "         [ 170000],\n",
       "         [ 180000],\n",
       "         [ 190000],\n",
       "         [ 200000]]],\n",
       "\n",
       "\n",
       "       [[[     11],\n",
       "         [     21],\n",
       "         [     31],\n",
       "         [     41],\n",
       "         [     51],\n",
       "         [     61],\n",
       "         [     71],\n",
       "         [     81],\n",
       "         [     91],\n",
       "         [    101],\n",
       "         [    111],\n",
       "         [    121],\n",
       "         [    131],\n",
       "         [    141],\n",
       "         [    151],\n",
       "         [    161],\n",
       "         [    171],\n",
       "         [    181],\n",
       "         [    191],\n",
       "         [    201]],\n",
       "\n",
       "        [[   1001],\n",
       "         [   2001],\n",
       "         [   3001],\n",
       "         [   4001],\n",
       "         [   5001],\n",
       "         [   6001],\n",
       "         [   7001],\n",
       "         [   8001],\n",
       "         [   9001],\n",
       "         [  10001],\n",
       "         [  11001],\n",
       "         [  12001],\n",
       "         [  13001],\n",
       "         [  14001],\n",
       "         [  15001],\n",
       "         [  16001],\n",
       "         [  17001],\n",
       "         [  18001],\n",
       "         [  19001],\n",
       "         [  20001]],\n",
       "\n",
       "        [[ 100001],\n",
       "         [ 200001],\n",
       "         [ 300001],\n",
       "         [ 400001],\n",
       "         [ 500001],\n",
       "         [ 600001],\n",
       "         [ 700001],\n",
       "         [ 800001],\n",
       "         [ 900001],\n",
       "         [1000001],\n",
       "         [1100001],\n",
       "         [1200001],\n",
       "         [1300001],\n",
       "         [1400001],\n",
       "         [1500001],\n",
       "         [1600001],\n",
       "         [1700001],\n",
       "         [1800001],\n",
       "         [1900001],\n",
       "         [2000001]]]])"
      ]
     },
     "execution_count": 103,
     "metadata": {},
     "output_type": "execute_result"
    }
   ],
   "source": [
    "# Rearrange for time: THIS is how it should look like\n",
    "array = embedded_array.reshape(2, 3, 20, 1)\n",
    "array"
   ]
  },
  {
   "cell_type": "code",
   "execution_count": null,
   "id": "97ac52bb-cda0-4088-a49c-a93da500533e",
   "metadata": {},
   "outputs": [],
   "source": [
    "t = array.transpose((0, 2, 1, 3))\n",
    "t = t.reshape(40, 3, 1)\n",
    "t"
   ]
  },
  {
   "cell_type": "code",
   "execution_count": 5,
   "id": "af283c48-ef36-418d-9c66-42873386414c",
   "metadata": {},
   "outputs": [
    {
     "name": "stdout",
     "output_type": "stream",
     "text": [
      "Looking in indexes: https://pypi.org/simple, https://pypi.ngc.nvidia.com\n",
      "Collecting einops\n",
      "  Downloading einops-0.4.1-py3-none-any.whl (28 kB)\n",
      "Installing collected packages: einops\n",
      "Successfully installed einops-0.4.1\n",
      "\u001b[33mWARNING: Running pip as the 'root' user can result in broken permissions and conflicting behaviour with the system package manager. It is recommended to use a virtual environment instead: https://pip.pypa.io/warnings/venv\u001b[0m\u001b[33m\n",
      "\u001b[0m\n",
      "\u001b[1m[\u001b[0m\u001b[34;49mnotice\u001b[0m\u001b[1;39;49m]\u001b[0m\u001b[39;49m A new release of pip available: \u001b[0m\u001b[31;49m22.1.2\u001b[0m\u001b[39;49m -> \u001b[0m\u001b[32;49m22.2.2\u001b[0m\n",
      "\u001b[1m[\u001b[0m\u001b[34;49mnotice\u001b[0m\u001b[1;39;49m]\u001b[0m\u001b[39;49m To update, run: \u001b[0m\u001b[32;49mpip install --upgrade pip\u001b[0m\n"
     ]
    }
   ],
   "source": [
    "! pip install einops"
   ]
  },
  {
   "cell_type": "code",
   "execution_count": 26,
   "id": "f51c550b-e5a9-4d4f-aec4-bc5c45227c68",
   "metadata": {},
   "outputs": [],
   "source": [
    "# integrating changes in the code from timeSformer -> models -> vit.py -> Block\n",
    "from einops import rearrange\n",
    "B = 2\n",
    "H = 4\n",
    "W = 5\n",
    "T = 3\n",
    "\n",
    "xt = embedded_array\n",
    "# xt = x[:,1:,:]\n",
    "xt = rearrange(xt, 'b (h w t) m -> b t (h w) m',b=B,h=H,w=W,t=T) #xt.reshape(2, 3, 20, 1)\n",
    "xt = xt.transpose(0,2,1,3) #((0, 2, 1, 3))\n",
    "xt = rearrange(xt, 'b (h w) t m -> (b h w) t m',b=B,h=H,w=W,t=T)  #t.reshape(40, 3, 1)\n",
    "\n",
    "# new approach:\n",
    "# N = 4\n",
    "# R = xt.shape[0] / N\n",
    "# xt = rearrange(xt, '(x n) t m -> x n t m',b=B,h=H,w=W,t=T, n=N, x=R)\n",
    "# # t = t.reshape(10, 4, 3, 1)\n",
    "# xt = rearrange(xt, 'x n t m -> x (n t) m',b=B,h=H,w=W,t=T, n=N, x=R)  # reshape such that 4 patches in each layer are considered\n",
    "# # t = t.reshape(10, 12, 1)\n",
    "\n",
    "# attention\n",
    "# res_temporal = self.drop_path(self.temporal_attn(self.temporal_norm1(xt)))\n",
    "res_temporal = xt\n",
    "\n",
    "# new approach\n",
    "# xt = rearrange(xt, 'x (n t) m -> x n t m',b=B,h=H,w=W,t=T, n=N, x=R)\n",
    "# xt = rearrange(xt, 'x n t m -> (x n) t m',b=B,h=H,w=W,t=T, n=N, x=R)\n",
    "\n",
    "# corrected\n",
    "res_temporal = rearrange(res_temporal, '(b h w) t m -> b (h w) t m',b=B,h=H,w=W,t=T)\n",
    "res_temporal = res_temporal.transpose(0,2,1,3) #(0, 2, 1, 3))\n",
    "res_temporal = rearrange(res_temporal, 'b t (h w) m -> b (h w t) m',b=B,h=H,w=W,t=T)\n",
    "\n",
    "# res_temporal = self.temporal_fc(res_temporal)\n",
    "# xt = x[:,1:,:] + res_temporal"
   ]
  },
  {
   "cell_type": "code",
   "execution_count": 27,
   "id": "6ef340f2-1a26-4221-aab7-c504ef06f849",
   "metadata": {},
   "outputs": [
    {
     "data": {
      "text/plain": [
       "(2, 60, 1)"
      ]
     },
     "execution_count": 27,
     "metadata": {},
     "output_type": "execute_result"
    }
   ],
   "source": [
    "res_temporal.shape"
   ]
  },
  {
   "cell_type": "code",
   "execution_count": 23,
   "id": "1762a345-cea2-4eb2-91db-2829f121bf7c",
   "metadata": {},
   "outputs": [
    {
     "data": {
      "text/plain": [
       "(2, 60, 1)"
      ]
     },
     "execution_count": 23,
     "metadata": {},
     "output_type": "execute_result"
    }
   ],
   "source": [
    "from einops import rearrange\n",
    "B = 2\n",
    "H = 4\n",
    "W = 5\n",
    "T = 3\n",
    "\n",
    "xt = embedded_array\n",
    "xt.shape"
   ]
  },
  {
   "cell_type": "code",
   "execution_count": 66,
   "id": "98c90fd1-6236-4201-8ca7-e8af9c16cbca",
   "metadata": {},
   "outputs": [
    {
     "name": "stdout",
     "output_type": "stream",
     "text": [
      "0\n"
     ]
    }
   ],
   "source": [
    "N = 4\n",
    "R = int(xt.shape[0] / N)\n",
    "\n",
    "xt = embedded_array\n",
    "xt = rearrange(xt, 'b (h w t) m -> b t (h w) m',b=B,h=H,w=W,t=T) #xt.reshape(2, 3, 20, 1)\n",
    "# xt = xt.transpose(0,2,1,3) #((0, 2, 1, 3))\n",
    "# xt = rearrange(xt, 'b t (h w) m -> (b h w) t m',b=B,h=H,w=W,t=T)  #t.reshape(40, 3, 1)\n",
    "\n",
    "# xt = rearrange(xt, '(x n) t m -> (x) n t m',t=T, n=N, x=R)\n",
    "# # t = t.reshape(10, 4, 3, 1)\n",
    "# xt = rearrange(xt, 'x n t m -> x (n t) m',t=T, n=N, x=R)  # reshape such that 4 patches in each layer are considered\n",
    "# # t = t.reshape(10, 12, 1)"
   ]
  },
  {
   "cell_type": "code",
   "execution_count": 117,
   "id": "4185f68f-9c6c-4ffa-ac9f-e5860baf07da",
   "metadata": {},
   "outputs": [],
   "source": [
    "####### Solution\n",
    "xt = embedded_array\n",
    "# xt = rearrange(xt, 'b (t h w) m -> b (h w) t m',b=B,h=H,w=W,t=T)\n",
    "xt = rearrange(xt, 'b (t h w) m -> (b h w) t m',b=B,h=H,w=W,t=T)\n",
    "# xt.shape"
   ]
  },
  {
   "cell_type": "code",
   "execution_count": 118,
   "id": "2b81a9eb-2d00-4500-83e0-19084eba1c8d",
   "metadata": {},
   "outputs": [
    {
     "data": {
      "text/plain": [
       "array([[[      1],\n",
       "        [      2],\n",
       "        [      3],\n",
       "        [      4],\n",
       "        [      5],\n",
       "        [      6],\n",
       "        [      7],\n",
       "        [      8],\n",
       "        [      9],\n",
       "        [     10],\n",
       "        [     11],\n",
       "        [     12],\n",
       "        [     13],\n",
       "        [     14],\n",
       "        [     15],\n",
       "        [     16],\n",
       "        [     17],\n",
       "        [     18],\n",
       "        [     19],\n",
       "        [     20],\n",
       "        [    100],\n",
       "        [    200],\n",
       "        [    300],\n",
       "        [    400],\n",
       "        [    500],\n",
       "        [    600],\n",
       "        [    700],\n",
       "        [    800],\n",
       "        [    900],\n",
       "        [   1000],\n",
       "        [   1100],\n",
       "        [   1200],\n",
       "        [   1300],\n",
       "        [   1400],\n",
       "        [   1500],\n",
       "        [   1600],\n",
       "        [   1700],\n",
       "        [   1800],\n",
       "        [   1900],\n",
       "        [   2000],\n",
       "        [  10000],\n",
       "        [  20000],\n",
       "        [  30000],\n",
       "        [  40000],\n",
       "        [  50000],\n",
       "        [  60000],\n",
       "        [  70000],\n",
       "        [  80000],\n",
       "        [  90000],\n",
       "        [ 100000],\n",
       "        [ 110000],\n",
       "        [ 120000],\n",
       "        [ 130000],\n",
       "        [ 140000],\n",
       "        [ 150000],\n",
       "        [ 160000],\n",
       "        [ 170000],\n",
       "        [ 180000],\n",
       "        [ 190000],\n",
       "        [ 200000]],\n",
       "\n",
       "       [[     11],\n",
       "        [     21],\n",
       "        [     31],\n",
       "        [     41],\n",
       "        [     51],\n",
       "        [     61],\n",
       "        [     71],\n",
       "        [     81],\n",
       "        [     91],\n",
       "        [    101],\n",
       "        [    111],\n",
       "        [    121],\n",
       "        [    131],\n",
       "        [    141],\n",
       "        [    151],\n",
       "        [    161],\n",
       "        [    171],\n",
       "        [    181],\n",
       "        [    191],\n",
       "        [    201],\n",
       "        [   1001],\n",
       "        [   2001],\n",
       "        [   3001],\n",
       "        [   4001],\n",
       "        [   5001],\n",
       "        [   6001],\n",
       "        [   7001],\n",
       "        [   8001],\n",
       "        [   9001],\n",
       "        [  10001],\n",
       "        [  11001],\n",
       "        [  12001],\n",
       "        [  13001],\n",
       "        [  14001],\n",
       "        [  15001],\n",
       "        [  16001],\n",
       "        [  17001],\n",
       "        [  18001],\n",
       "        [  19001],\n",
       "        [  20001],\n",
       "        [ 100001],\n",
       "        [ 200001],\n",
       "        [ 300001],\n",
       "        [ 400001],\n",
       "        [ 500001],\n",
       "        [ 600001],\n",
       "        [ 700001],\n",
       "        [ 800001],\n",
       "        [ 900001],\n",
       "        [1000001],\n",
       "        [1100001],\n",
       "        [1200001],\n",
       "        [1300001],\n",
       "        [1400001],\n",
       "        [1500001],\n",
       "        [1600001],\n",
       "        [1700001],\n",
       "        [1800001],\n",
       "        [1900001],\n",
       "        [2000001]]])"
      ]
     },
     "execution_count": 118,
     "metadata": {},
     "output_type": "execute_result"
    }
   ],
   "source": [
    "####### Solution\n",
    "xt = rearrange(xt, '(b h w) t m -> b (t h w) m',b=B,h=H,w=W,t=T)\n",
    "xt"
   ]
  },
  {
   "cell_type": "code",
   "execution_count": 25,
   "id": "a962ec60-6602-41b8-b6dc-60403df8be84",
   "metadata": {},
   "outputs": [
    {
     "data": {
      "text/plain": [
       "(2, 20, 3, 1)"
      ]
     },
     "execution_count": 25,
     "metadata": {},
     "output_type": "execute_result"
    }
   ],
   "source": [
    "xt.shape"
   ]
  },
  {
   "cell_type": "code",
   "execution_count": 27,
   "id": "2676a59a-b7aa-4f3f-b8e7-790e60b35cc8",
   "metadata": {},
   "outputs": [],
   "source": [
    "xt = xt.transpose(0,2,1,3)"
   ]
  },
  {
   "cell_type": "code",
   "execution_count": 29,
   "id": "1cfdaa52-0e22-49d6-a1f9-4c7da11ec2e0",
   "metadata": {},
   "outputs": [
    {
     "data": {
      "text/plain": [
       "(2, 3, 20, 1)"
      ]
     },
     "execution_count": 29,
     "metadata": {},
     "output_type": "execute_result"
    }
   ],
   "source": [
    "xt.shape"
   ]
  },
  {
   "cell_type": "code",
   "execution_count": 87,
   "id": "5194e3fc-6b31-4e41-93a2-24f71799e7b6",
   "metadata": {},
   "outputs": [],
   "source": [
    "orig_array = np.array([[[[1,2,3,4,5],\n",
    "                [6,7,8,9,10],\n",
    "                [11,12,13,14,15],\n",
    "                [16,17,18,19,20]],\n",
    "\n",
    "                [[100,200,300,400,500],\n",
    "                [600,700,800,900,1000],\n",
    "                [1100,1200,1300,1400,1500],\n",
    "                [1600,1700,1800,1900,2000]],\n",
    "\n",
    "                [[10000,20000,30000,40000,50000],\n",
    "                [60000,70000,80000,90000,100000],\n",
    "                [110000,120000,130000,140000,150000],\n",
    "                [160000,170000,180000,190000,200000]]]])\n",
    "\n",
    "# array = orig_array.reshape(1, 3, 4, 5) #channel time height width\n",
    "array = array.reshape(3,4,5)\n",
    "array = array.reshape(3,20)\n",
    "array = array.reshape(3,20)\n",
    "\n",
    "# Put batch size to the front\n",
    "embedded_array = array.reshape(60)"
   ]
  },
  {
   "cell_type": "code",
   "execution_count": 88,
   "id": "40678a9b-bf3a-4f8e-bdb7-593f0e9500bf",
   "metadata": {},
   "outputs": [
    {
     "data": {
      "text/plain": [
       "(60,)"
      ]
     },
     "execution_count": 88,
     "metadata": {},
     "output_type": "execute_result"
    }
   ],
   "source": [
    "from einops import rearrange\n",
    "B = 2\n",
    "H = 4\n",
    "W = 5\n",
    "T = 3\n",
    "\n",
    "xt = embedded_array\n",
    "xt.shape"
   ]
  },
  {
   "cell_type": "code",
   "execution_count": 89,
   "id": "2d1a4481-531d-49b8-b6b6-a77cfa8b5a31",
   "metadata": {},
   "outputs": [],
   "source": [
    "xt = rearrange(xt, '(h w t) -> t (h w)',h=H,w=W,t=T) #xt.reshape(2, 3, 20, 1)"
   ]
  },
  {
   "cell_type": "code",
   "execution_count": 90,
   "id": "07cddd4c-006d-4a03-ae0a-95c51c32bf97",
   "metadata": {},
   "outputs": [
    {
     "data": {
      "text/plain": [
       "(3, 20)"
      ]
     },
     "execution_count": 90,
     "metadata": {},
     "output_type": "execute_result"
    }
   ],
   "source": [
    "xt.shape"
   ]
  },
  {
   "cell_type": "code",
   "execution_count": 91,
   "id": "f95ec43a-31d3-4fba-be80-172950b4f35f",
   "metadata": {},
   "outputs": [
    {
     "data": {
      "text/plain": [
       "array([[     1,      4,      7,     10,     13,     16,     19,    200,\n",
       "           500,    800,   1100,   1400,   1700,   2000,  30000,  60000,\n",
       "         90000, 120000, 150000, 180000],\n",
       "       [     2,      5,      8,     11,     14,     17,     20,    300,\n",
       "           600,    900,   1200,   1500,   1800,  10000,  40000,  70000,\n",
       "        100000, 130000, 160000, 190000],\n",
       "       [     3,      6,      9,     12,     15,     18,    100,    400,\n",
       "           700,   1000,   1300,   1600,   1900,  20000,  50000,  80000,\n",
       "        110000, 140000, 170000, 200000]])"
      ]
     },
     "execution_count": 91,
     "metadata": {},
     "output_type": "execute_result"
    }
   ],
   "source": [
    "xt"
   ]
  },
  {
   "cell_type": "code",
   "execution_count": 92,
   "id": "7032461e-2c49-4b65-b600-f7db0c226857",
   "metadata": {},
   "outputs": [],
   "source": [
    "xt = xt.transpose()"
   ]
  },
  {
   "cell_type": "code",
   "execution_count": 93,
   "id": "2cc3516e-73c2-43d2-8596-841ab7145d2b",
   "metadata": {},
   "outputs": [
    {
     "data": {
      "text/plain": [
       "array([[     1,      2,      3],\n",
       "       [     4,      5,      6],\n",
       "       [     7,      8,      9],\n",
       "       [    10,     11,     12],\n",
       "       [    13,     14,     15],\n",
       "       [    16,     17,     18],\n",
       "       [    19,     20,    100],\n",
       "       [   200,    300,    400],\n",
       "       [   500,    600,    700],\n",
       "       [   800,    900,   1000],\n",
       "       [  1100,   1200,   1300],\n",
       "       [  1400,   1500,   1600],\n",
       "       [  1700,   1800,   1900],\n",
       "       [  2000,  10000,  20000],\n",
       "       [ 30000,  40000,  50000],\n",
       "       [ 60000,  70000,  80000],\n",
       "       [ 90000, 100000, 110000],\n",
       "       [120000, 130000, 140000],\n",
       "       [150000, 160000, 170000],\n",
       "       [180000, 190000, 200000]])"
      ]
     },
     "execution_count": 93,
     "metadata": {},
     "output_type": "execute_result"
    }
   ],
   "source": [
    "xt"
   ]
  },
  {
   "cell_type": "code",
   "execution_count": null,
   "id": "1e48d430-408b-46e0-8b12-d958a6ea6fac",
   "metadata": {},
   "outputs": [],
   "source": []
  }
 ],
 "metadata": {
  "kernelspec": {
   "display_name": "Python 3 (ipykernel)",
   "language": "python",
   "name": "python3"
  },
  "language_info": {
   "codemirror_mode": {
    "name": "ipython",
    "version": 3
   },
   "file_extension": ".py",
   "mimetype": "text/x-python",
   "name": "python",
   "nbconvert_exporter": "python",
   "pygments_lexer": "ipython3",
   "version": "3.8.12"
  }
 },
 "nbformat": 4,
 "nbformat_minor": 5
}
