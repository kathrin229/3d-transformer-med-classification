{
 "cells": [
  {
   "cell_type": "code",
   "execution_count": 4,
   "id": "9ac9c7c5-1fc3-43cc-b26c-fe54bfcad1a1",
   "metadata": {},
   "outputs": [
    {
     "data": {
      "text/plain": [
       "(4, 2, 2)"
      ]
     },
     "execution_count": 4,
     "metadata": {},
     "output_type": "execute_result"
    }
   ],
   "source": [
    "import numpy as np\n",
    "orig_array = np.array([[[1,2],\n",
    "                        [3,4]],\n",
    "                        \n",
    "                        [[5,6],\n",
    "                        [7,8]],\n",
    "                        \n",
    "                        [[9,10],\n",
    "                        [11,12]],\n",
    "                         \n",
    "                        [[13,14],\n",
    "                        [15,16]]])\n",
    "orig_array.shape"
   ]
  },
  {
   "cell_type": "code",
   "execution_count": 37,
   "id": "5c6a577a-440d-41eb-97c0-017549afd29f",
   "metadata": {},
   "outputs": [],
   "source": [
    "array = orig_array.reshape(16,1,1)"
   ]
  },
  {
   "cell_type": "code",
   "execution_count": 38,
   "id": "f461d7dc-0a8d-4446-8c8e-fcd93b74ef41",
   "metadata": {},
   "outputs": [
    {
     "data": {
      "text/plain": [
       "array([[ 1,  2,  3,  4],\n",
       "       [ 5,  6,  7,  8],\n",
       "       [ 9, 10, 11, 12],\n",
       "       [13, 14, 15, 16]])"
      ]
     },
     "execution_count": 38,
     "metadata": {},
     "output_type": "execute_result"
    }
   ],
   "source": [
    "array = array.reshape(4,4)\n",
    "array"
   ]
  },
  {
   "cell_type": "code",
   "execution_count": 39,
   "id": "4e2353f0-0dff-4746-a5e9-6bcdb87b83dc",
   "metadata": {},
   "outputs": [],
   "source": [
    "array = array.reshape(4,2,2)"
   ]
  },
  {
   "cell_type": "code",
   "execution_count": 40,
   "id": "4b1dbc25-9d04-4b2c-81b9-31f2a92feb0b",
   "metadata": {},
   "outputs": [],
   "source": [
    "array = array.swapaxes(0,1)"
   ]
  },
  {
   "cell_type": "code",
   "execution_count": 41,
   "id": "373f1db8-c837-4c4f-9eb3-c5ddfa2eb3d4",
   "metadata": {},
   "outputs": [
    {
     "data": {
      "text/plain": [
       "array([[ 1,  2,  5,  6],\n",
       "       [ 9, 10, 13, 14],\n",
       "       [ 3,  4,  7,  8],\n",
       "       [11, 12, 15, 16]])"
      ]
     },
     "execution_count": 41,
     "metadata": {},
     "output_type": "execute_result"
    }
   ],
   "source": [
    "array = array.reshape(4,4)\n",
    "array"
   ]
  },
  {
   "cell_type": "code",
   "execution_count": 42,
   "id": "058f71fc-7a85-4cb1-8e03-92c2620d18db",
   "metadata": {},
   "outputs": [],
   "source": [
    "array[[1,2]] = array[[2,1]]"
   ]
  },
  {
   "cell_type": "code",
   "execution_count": 43,
   "id": "bd94f48a-c8e4-436d-b339-22a25d6388d4",
   "metadata": {},
   "outputs": [
    {
     "data": {
      "text/plain": [
       "array([[ 1,  2,  5,  6],\n",
       "       [ 3,  4,  7,  8],\n",
       "       [ 9, 10, 13, 14],\n",
       "       [11, 12, 15, 16]])"
      ]
     },
     "execution_count": 43,
     "metadata": {},
     "output_type": "execute_result"
    }
   ],
   "source": [
    "array"
   ]
  },
  {
   "cell_type": "code",
   "execution_count": null,
   "id": "11beffe4-66f9-4c11-9b88-15c9db8165f4",
   "metadata": {},
   "outputs": [],
   "source": []
  }
 ],
 "metadata": {
  "kernelspec": {
   "display_name": "Python 3 (ipykernel)",
   "language": "python",
   "name": "python3"
  },
  "language_info": {
   "codemirror_mode": {
    "name": "ipython",
    "version": 3
   },
   "file_extension": ".py",
   "mimetype": "text/x-python",
   "name": "python",
   "nbconvert_exporter": "python",
   "pygments_lexer": "ipython3",
   "version": "3.8.12"
  }
 },
 "nbformat": 4,
 "nbformat_minor": 5
}
